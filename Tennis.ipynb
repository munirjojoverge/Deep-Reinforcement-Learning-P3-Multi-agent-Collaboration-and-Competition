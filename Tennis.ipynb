{
 "cells": [
  {
   "cell_type": "markdown",
   "metadata": {},
   "source": [
    "# Collaboration and Competition\n",
    "\n",
    "---\n",
    "###          Deep Reinforcement Learning Nano-degree - Udacity\n",
    "###                  Created/Modified on: December 5th, 2018\n",
    "###                      Author: Munir Jojo-Verge\n",
    "---\n",
    "\n",
    "In this notebook, you will learn how to use the Unity ML-Agents environment for the third project of the [Deep Reinforcement Learning Nanodegree](https://www.udacity.com/course/deep-reinforcement-learning-nanodegree--nd893) program."
   ]
  },
  {
   "cell_type": "markdown",
   "metadata": {},
   "source": [
    "### 1. Start the Environment\n",
    "\n",
    "We begin by importing the necessary packages.  If the code cell below returns an error, please revisit the project instructions to double-check that you have installed [Unity ML-Agents](https://github.com/Unity-Technologies/ml-agents/blob/master/docs/Installation.md) and [NumPy](http://www.numpy.org/)."
   ]
  },
  {
   "cell_type": "code",
   "execution_count": 1,
   "metadata": {
    "collapsed": true
   },
   "outputs": [],
   "source": [
    "from unityagents import UnityEnvironment\n",
    "\n",
    "import numpy as np\n",
    "import random\n",
    "import torch\n",
    "import numpy as np\n",
    "import os.path\n",
    "from collections import deque\n",
    "import matplotlib.pyplot as plt\n",
    "import time\n",
    "import argparse\n",
    "from datetime import datetime\n",
    "\n",
    "%matplotlib inline"
   ]
  },
  {
   "cell_type": "markdown",
   "metadata": {},
   "source": [
    "#### 1.1 Import the python files developed for this project\n",
    "You'll find all the code in the following files.\n",
    "* ddpg_agent.py: In this file we have 2 classes defined:\n",
    "    * Agent class: That implements the DDPG algorithm\n",
    "    * ReplayBuffer: This is a very simple Replay Mememory class to basicaly store and sample the \"Transisions\" (state,action, next_state, reward, done)\n",
    "* memory.py: In this file I developed a more sophisticated Priority Replay Memory Class based on the \"Rainbow\" development.\n",
    "* model.py: Defines the Actor/Critic Neural Networks (with 4 hidden layers and 96x96 filters)\n",
    "* model2.py: Defines the Actor/Critic Neural Networks (with 3 hidden layers and 96x96 filters) - This one ended up being sufficient and even performed better.(Read Report.pdf for more details)"
   ]
  },
  {
   "cell_type": "code",
   "execution_count": 2,
   "metadata": {
    "collapsed": true
   },
   "outputs": [],
   "source": [
    "from ddpg_agent import Agent, ReplayBuffer\n",
    "from memory import ReplayMemory"
   ]
  },
  {
   "cell_type": "markdown",
   "metadata": {},
   "source": [
    "### 2. Define the arguments that we will use to configure/define the Cov Nets and the algoritm's behavior\n",
    "This is a comprehensive list of arguments that will serve as a fundation for both, the single agent and the multiple agent. Also we will use some of this arguments to define how the DDPG algorithm will behave."
   ]
  },
  {
   "cell_type": "code",
   "execution_count": 3,
   "metadata": {
    "collapsed": true
   },
   "outputs": [],
   "source": [
    "class args:\n",
    "    seed = 777                      # Random seed\n",
    "    disable_cuda = False            # Disable CUDA\n",
    "    device = torch.device(\"cuda:0\" if torch.cuda.is_available() else \"cpu\")\n",
    "    #game = '/media/munirjojo-verge/My Passport/01 - Deep Learning Nanodegree/deep-reinforcement-learning/p2_continuous-control/Reacher_Linux_NoVis/Reacher.x86_64' # Udacity environment        \n",
    "    game = '/media/munirjojo-verge/My Passport/01 - Deep Learning Nanodegree/deep-reinforcement-learning/p3_collab-compet/Tennis_Linux/Tennis.x86_64'\n",
    "    T_max = int(1e3)                # Number of training steps\n",
    "    max_num_episodes = int(1000)     # Max number of episodes      \n",
    "    \n",
    "    hidden_1_size = 96              # Network hidden layer 1 size\n",
    "    hidden_2_size = 96              # Network hidden layer 2 size\n",
    "    hidden_3_size = 96              # Network hidden layer 3 size\n",
    "    \n",
    "    noise_std = 0.05               # Initial standard deviation of noise added to weights\n",
    "    \n",
    "    memory_capacity = int(1e6)      # Experience replay memory capacity\n",
    "    batch_size = 256*1             # Batch size: Number of memories will be sampled to learn \n",
    "    learning_starts_ratio = 1/50   # Number of steps before starting training = memory capacity * this ratio\n",
    "    learning_frequency = 2    # Steps before we sample from the replay Memory again    \n",
    "    \n",
    "    priority_exponent = 0.5         # Prioritised experience replay exponent (originally denoted α)\n",
    "    priority_weight = 0.4           # Initial prioritised experience replay importance sampling weight\n",
    "    \n",
    "    discount = 0.99                 # Discount factor\n",
    "    \n",
    "    target_update = int(30)          # Number of steps after which to update target network (Soft update for Actor & Critic)\n",
    "    tau = 1e-3                      # Soft Update interpolation parameter\n",
    "    \n",
    "    reward_clip = 1                 # Reward clipping (0 to disable)\n",
    "    \n",
    "    lr_Actor = 1e-3                 # Learning rate - Actor\n",
    "    lr_Critic = 1e-3                # Learning rate - Critic\n",
    "    adam_eps = 1e-08                # Adam epsilon (Used for both Networks)\n",
    "    weight_decay = 0                # Critic Optimizer Weight Decay\n",
    "        "
   ]
  },
  {
   "cell_type": "markdown",
   "metadata": {},
   "source": [
    "### 3. Setup the platform where we'll run\n",
    "\n",
    "Using some of the arguments above we can setup some of our platform parameters"
   ]
  },
  {
   "cell_type": "code",
   "execution_count": 4,
   "metadata": {
    "collapsed": true
   },
   "outputs": [],
   "source": [
    "random.seed(args.seed)\n",
    "torch.manual_seed(random.randint(1, 10000))\n",
    "if torch.cuda.is_available() and not args.disable_cuda:\n",
    "  args.device = torch.device('cuda')\n",
    "  torch.cuda.manual_seed(random.randint(1, 10000))\n",
    "  torch.backends.cudnn.enabled = False  # Disable nondeterministic ops (not sure if critical but better safe than sorry)\n",
    "else:\n",
    "  args.device = torch.device('cpu')"
   ]
  },
  {
   "cell_type": "markdown",
   "metadata": {},
   "source": [
    "### 4. Create the Environment - Unity"
   ]
  },
  {
   "cell_type": "code",
   "execution_count": 5,
   "metadata": {
    "scrolled": false
   },
   "outputs": [
    {
     "name": "stderr",
     "output_type": "stream",
     "text": [
      "INFO:unityagents:\n",
      "'Academy' started successfully!\n",
      "Unity Academy name: Academy\n",
      "        Number of Brains: 1\n",
      "        Number of External Brains : 1\n",
      "        Lesson number : 0\n",
      "        Reset Parameters :\n",
      "\t\t\n",
      "Unity brain name: TennisBrain\n",
      "        Number of Visual Observations (per agent): 0\n",
      "        Vector Observation space type: continuous\n",
      "        Vector Observation space size (per agent): 8\n",
      "        Number of stacked Vector Observation: 3\n",
      "        Vector Action space type: continuous\n",
      "        Vector Action space size (per agent): 2\n",
      "        Vector Action descriptions: , \n"
     ]
    }
   ],
   "source": [
    "env = UnityEnvironment(file_name = args.game)"
   ]
  },
  {
   "cell_type": "markdown",
   "metadata": {},
   "source": [
    "Environments contain **_brains_** which are responsible for deciding the actions of their associated agents. Here we check for the first brain available, and set it as the default brain we will be controlling from Python."
   ]
  },
  {
   "cell_type": "code",
   "execution_count": 6,
   "metadata": {
    "collapsed": true
   },
   "outputs": [],
   "source": [
    "# get the default brain\n",
    "brain_name = env.brain_names[0]\n",
    "brain = env.brains[brain_name]"
   ]
  },
  {
   "cell_type": "markdown",
   "metadata": {},
   "source": [
    "### 5. Examine the State and Action Spaces\n",
    "\n",
    "In this environment, a double-jointed arm can move to target locations. A reward of `+0.1` is provided for each step that the agent's hand is in the goal location. Thus, the goal of your agent is to maintain its position at the target location for as many time steps as possible.\n",
    "\n",
    "The observation space consists of `33` variables corresponding to position, rotation, velocity, and angular velocities of the arm.  Each action is a vector with four numbers, corresponding to torque applicable to two joints.  Every entry in the action vector must be a number between `-1` and `1`.\n",
    "\n",
    "Run the code cell below to print some information about the environment."
   ]
  },
  {
   "cell_type": "code",
   "execution_count": 7,
   "metadata": {
    "scrolled": true
   },
   "outputs": [
    {
     "name": "stdout",
     "output_type": "stream",
     "text": [
      "Number of agents: 2\n",
      "Size of each action: 2\n",
      "There are 2 agents. Each observes a state with length: 24\n",
      "The state for the first agent looks like: [ 0.          0.          0.          0.          0.          0.          0.\n",
      "  0.          0.          0.          0.          0.          0.          0.\n",
      "  0.          0.         -6.65278625 -1.5        -0.          0.\n",
      "  6.83172083  6.         -0.          0.        ]\n",
      "The state for the second agent looks like: [ 0.          0.          0.          0.          0.          0.          0.\n",
      "  0.          0.          0.          0.          0.          0.          0.\n",
      "  0.          0.         -6.4669857  -1.5         0.          0.\n",
      " -6.83172083  6.          0.          0.        ]\n",
      "Number of agents: 2\n"
     ]
    }
   ],
   "source": [
    "# reset the environment\n",
    "env_info = env.reset(train_mode=True)[brain_name]\n",
    "\n",
    "# number of agents \n",
    "num_agents = len(env_info.agents)\n",
    "print('Number of agents:', num_agents)\n",
    "\n",
    "# size of each action\n",
    "action_size = brain.vector_action_space_size\n",
    "print('Size of each action:', action_size)\n",
    "\n",
    "# examine the state space \n",
    "states = env_info.vector_observations\n",
    "state_size = states.shape[1]\n",
    "print('There are {} agents. Each observes a state with length: {}'.format(states.shape[0], state_size))\n",
    "print('The state for the first agent looks like:', states[0])\n",
    "print('The state for the second agent looks like:', states[1])\n",
    "print('Number of agents:', len(states))"
   ]
  },
  {
   "cell_type": "markdown",
   "metadata": {},
   "source": [
    "### 6. Create an instance of our DDPG Agent"
   ]
  },
  {
   "cell_type": "code",
   "execution_count": 8,
   "metadata": {
    "collapsed": true
   },
   "outputs": [],
   "source": [
    "# Construct the Agent\n",
    "agent = Agent(args,state_size=state_size, action_size=action_size)\n",
    "\n",
    "# Replay memory: We create the Replay Mem outside the Agent so we can share 1 single Mem with all 20 agents. \n",
    "# I will try the simple replay buffer and a more sophisticated priority replay memory.\n",
    "#memory = ReplayMemory(args)\n",
    "memory = ReplayBuffer(action_size, args.memory_capacity, args.batch_size, args.seed)"
   ]
  },
  {
   "cell_type": "code",
   "execution_count": null,
   "metadata": {
    "scrolled": false
   },
   "outputs": [],
   "source": [
    "# DDPG\n",
    "\n",
    "def ddpg(agent, memory, StopWhenSolved = False):\n",
    "    if os.path.isfile('weights/actor_final.pth'):\n",
    "        agent.actor_local.load_state_dict(torch.load('weights/actor_final.pth'))\n",
    "        agent.critic_local.load_state_dict(torch.load('weights/critic_final.pth'))\n",
    "\n",
    "    \n",
    "    ######################\n",
    "    last100_best_scores_deque = deque(maxlen=100)\n",
    "    scores_global = []\n",
    "    average_global = []\n",
    "    min_global = []\n",
    "    max_global = []\n",
    "    time_taken = 0\n",
    "    Start_time = time.time()\n",
    "    #######################\n",
    "        \n",
    "    for i_episode in range(1, agent.args.max_num_episodes):\n",
    "        env_info = env.reset(train_mode=True)[brain_name]      # reset the environment    \n",
    "        states = env_info.vector_observations                  # get the current state (for each agent)\n",
    "        scores = np.zeros(num_agents)                          # initialize the score (for each agent)\n",
    "        agent.reset()\n",
    "        \n",
    "        timestep = 0\n",
    "        dones = np.zeros(num_agents) \n",
    "        while timestep <= agent.args.T_max:                    # while any agents has NOT reached the ball (done)\n",
    "            timestep += 1 \n",
    "            actions = agent.act(states)\n",
    "            env_info = env.step(actions)[brain_name]           # send all actions to the environment\n",
    "            next_states = env_info.vector_observations         # get next state (for each agent)\n",
    "            rewards = env_info.rewards                         # get reward (for each agent)\n",
    "            dones = env_info.local_done                        # see if episode finished    \n",
    "                        \n",
    "            agent.memorize(states, actions, rewards, next_states, dones, memory)\n",
    "            \n",
    "            agent.learn(memory,timestep)\n",
    "                        \n",
    "            states = next_states\n",
    "            scores += rewards            \n",
    "                    \n",
    "        episode_avg_score = np.mean(scores)                \n",
    "        scores_global.append(episode_avg_score)\n",
    "                \n",
    "        min_global.append(np.min(scores))  \n",
    "        max_global.append(np.max(scores)) \n",
    "        \n",
    "        last100_best_scores_deque.append(max_global[len(max_global)-1])        \n",
    "        last100_best_scores_average = np.mean(last100_best_scores_deque)\n",
    "        \n",
    "        \n",
    "        print('\\rEpisode {} \\tlast 100 avg: {:.2f} \\tavg score: {:.2f} '.format(i_episode, last100_best_scores_average, episode_avg_score), end=\"\")\n",
    "        if i_episode % 10 == 0:\n",
    "            torch.save(agent.actor_local.state_dict(), 'weights/checkpoint_actor_eps' + str(i_episode) + '.pth')\n",
    "            torch.save(agent.critic_local.state_dict(), 'weights/checkpoint_critic_eps'+ str(i_episode) + '.pth')\n",
    "            print('\\rEpisode {} \\tlast 100 avg: {:.2f}'.format(i_episode, last100_best_scores_average)) \n",
    "        \n",
    "        if  (StopWhenSolved and last100_best_scores_average >= 0.5):            \n",
    "            End_time = time.time()\n",
    "            time_taken = (End_time - Start_time)/60\n",
    "            print('\\nSolved in {:d} episodes!\\tlast100_best_scores_average: {:.2f}, time taken(min): {}'.\n",
    "                  format(i_episode, last100_best_scores_average, (End_time - Start_time)/60))\n",
    "            torch.save(agent.actor_local.state_dict(), 'weights/actor_final.pth')\n",
    "            torch.save(agent.critic_local.state_dict(), 'weights/critic_final.pth')            \n",
    "            break\n",
    "     \n",
    "    return scores_global, average_global, max_global, min_global, time_taken\n",
    "\n",
    "scores_global, average_global, max_global, min_global, time_taken = ddpg(agent, memory)"
   ]
  },
  {
   "cell_type": "code",
   "execution_count": null,
   "metadata": {
    "collapsed": true
   },
   "outputs": [],
   "source": []
  },
  {
   "cell_type": "code",
   "execution_count": null,
   "metadata": {
    "scrolled": true
   },
   "outputs": [],
   "source": [
    "#fig = plt.figure()\n",
    "#ax = fig.add_subplot(111)\n",
    "plt.plot(np.arange(1, len(scores_global)+1), scores_global)\n",
    "plt.plot(np.arange(1, len(average_global)+1), average_global)\n",
    "plt.ylabel('Score')\n",
    "plt.xlabel('Episode #')\n",
    "plt.legend(['Episode Avg', 'Last100 Avg'], loc='lower right')\n",
    "plt.show()\n",
    "\n",
    "#fig2 = plt.figure()\n",
    "#ax = fig.add_subplot(211)\n",
    "plt.plot(np.arange(1, len(scores_global)+1), scores_global)\n",
    "plt.plot(np.arange(1, len(average_global)+1), average_global)\n",
    "plt.plot(np.arange(1, len(max_global)+1), max_global)\n",
    "plt.plot(np.arange(1, len(min_global)+1), min_global)\n",
    "plt.ylabel('Score')\n",
    "plt.xlabel('Episode #')\n",
    "plt.legend(['Episode Avg','Last100 Avg', 'Max', 'Min'], loc='lower right')\n",
    "plt.show()"
   ]
  },
  {
   "cell_type": "code",
   "execution_count": null,
   "metadata": {
    "collapsed": true
   },
   "outputs": [],
   "source": [
    "torch.save(agent.actor_local.state_dict(), 'weights/actor_final.pth')\n",
    "torch.save(agent.critic_local.state_dict(), 'weights/critic_final.pth') "
   ]
  },
  {
   "cell_type": "code",
   "execution_count": 10,
   "metadata": {},
   "outputs": [
    {
     "name": "stdout",
     "output_type": "stream",
     "text": [
      "Total score (averaged over agents) this episode: 2.600000038743019\n"
     ]
    }
   ],
   "source": [
    "agent.actor_local.load_state_dict(torch.load('weights/actor_final.pth'))\n",
    "agent.critic_local.load_state_dict(torch.load('weights/critic_final.pth'))\n",
    "\n",
    "env_info = env.reset(train_mode=False)[brain_name]     # reset the environment    \n",
    "states = env_info.vector_observations                  # get the current state (for each agent)\n",
    "play_scores = np.zeros(num_agents)                          # initialize the score (for each agent)\n",
    "while True:\n",
    "    actions = agent.act(states)\n",
    "    #env.render()\n",
    "    env_info = env.step(actions)[brain_name]           # send all actions to tne environment\n",
    "    next_states = env_info.vector_observations         # get next state (for each agent)\n",
    "    rewards = env_info.rewards                         # get reward (for each agent)\n",
    "    dones = env_info.local_done                        # see if episode finished\n",
    "    play_scores += env_info.rewards                         # update the score (for each agent)\n",
    "    states = next_states                               # roll over states to next time step\n",
    "    if np.any(dones):                                  # exit loop if episode finished\n",
    "        break\n",
    "print('Total score (averaged over agents) this episode: {}'.format(np.mean(play_scores)))"
   ]
  },
  {
   "cell_type": "markdown",
   "metadata": {},
   "source": [
    "### Close the Environment"
   ]
  },
  {
   "cell_type": "code",
   "execution_count": 11,
   "metadata": {
    "collapsed": true
   },
   "outputs": [],
   "source": [
    "env.close()"
   ]
  },
  {
   "cell_type": "markdown",
   "metadata": {},
   "source": [
    "### 4. It's Your Turn!\n",
    "\n",
    "Now it's your turn to train your own agent to solve the environment!  When training the environment, set `train_mode=True`, so that the line for resetting the environment looks like the following:\n",
    "```python\n",
    "env_info = env.reset(train_mode=True)[brain_name]\n",
    "```"
   ]
  },
  {
   "cell_type": "code",
   "execution_count": null,
   "metadata": {
    "collapsed": true
   },
   "outputs": [],
   "source": []
  }
 ],
 "metadata": {
  "kernelspec": {
   "display_name": "drlnd",
   "language": "python",
   "name": "drlnd"
  },
  "language_info": {
   "codemirror_mode": {
    "name": "ipython",
    "version": 3
   },
   "file_extension": ".py",
   "mimetype": "text/x-python",
   "name": "python",
   "nbconvert_exporter": "python",
   "pygments_lexer": "ipython3",
   "version": "3.6.3"
  }
 },
 "nbformat": 4,
 "nbformat_minor": 2
}
